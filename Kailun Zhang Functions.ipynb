{
 "cells": [
  {
   "cell_type": "markdown",
   "id": "5c27499c",
   "metadata": {},
   "source": [
    "## Encoder-Decoder model with training"
   ]
  },
  {
   "cell_type": "code",
   "execution_count": null,
   "id": "b95d37bd",
   "metadata": {},
   "outputs": [],
   "source": [
    "class EncoderRNN2(nn.Module):\n",
    "    def __init__(self, embedding, hidden_size, n_layers, dropout=0):\n",
    "        super(EncoderRNN2, self).__init__()\n",
    "        self.hidden_size = hidden_size\n",
    "        self.embedding = embedding\n",
    "        self.gru = nn.GRU(hidden_size, hidden_size, n_layers, dropout=(0 if n_layers == 1 else dropout), bidirectional=True)\n",
    "\n",
    "    def forward(self, input_seq, input_lengths, hidden=None):\n",
    "        embedded = self.embedding(input_seq)\n",
    "        packed = nn.utils.rnn.pack_padded_sequence(embedded, input_lengths) # this line from tutorial\n",
    "        outputs, hidden = self.gru(packed, hidden)\n",
    "        outputs, _ = nn.utils.rnn.pad_packed_sequence(outputs)\n",
    "        outputs = outputs[:, :, :self.hidden_size] + outputs[:, : ,self.hidden_size:] # this line from tutorial\n",
    "        return outputs, hidden"
   ]
  },
  {
   "cell_type": "code",
   "execution_count": null,
   "id": "6d32db6f",
   "metadata": {},
   "outputs": [],
   "source": [
    "class DecoderRNN2(nn.Module):\n",
    "    def __init__(self, embedding, hidden_size, output_size, n_layers, dropout):\n",
    "        super(DecoderRNN2, self).__init__()\n",
    "        self.hidden_size = hidden_size\n",
    "        self.n_layers = n_layers\n",
    "        self.embedding = nn.Embedding(output_size, hidden_size)\n",
    "        self.embedding_dropout = nn.Dropout(dropout)\n",
    "        self.gru = nn.GRU(hidden_size, hidden_size, n_layers, dropout=(0 if n_layers == 1 else dropout))\n",
    "        self.out = nn.Linear(hidden_size, output_size)\n",
    "\n",
    "    def forward(self, input_sequence, hidden):\n",
    "        embedded = self.embedding(input_sequence)\n",
    "        rnn_output, hidden = self.gru(embedded, hidden)\n",
    "        output = F.softmax(rnn_output, dim=1)\n",
    "        return output, hidden"
   ]
  },
  {
   "cell_type": "code",
   "execution_count": null,
   "id": "721b8a78",
   "metadata": {},
   "outputs": [],
   "source": [
    "def train2(input_variable, input_lengths, target_variable, encoder, decoder, encoder_optimizer, decoder_optimizer, mask, batch_size, max_length=MAX_LENGTH):\n",
    "    \n",
    "    encoder_optimizer.zero_grad()\n",
    "    decoder_optimizer.zero_grad()\n",
    "\n",
    "    loss = 0\n",
    "    n_totals = 0\n",
    "    all_loss = []\n",
    "    target_length = target_variable.size(0)\n",
    "    encoder_output, encoder_hidden = encoder(input_variable, input_lengths)\n",
    "    \n",
    "    decoder_input = torch.LongTensor([[SOS_token for _ in range(batch_size)]]) # this line from tutorial\n",
    "    decoder_hidden = encoder_hidden[:decoder.n_layers]\n",
    "    \n",
    "    for t in range(target_length):\n",
    "        print('decoder_hidden_shape', len(decoder_hidden.shape))\n",
    "        decoder_output, decoder_hidden = decoder(decoder_input, decoder_hidden)\n",
    "        topv, topi = decoder_output.topk(1)\n",
    "        decoder_input = topi.squeeze().detach()\n",
    "        mask_loss, n_total = maskNLLLoss(decoder_output, target_variable[t], mask[t]) # this line from tutorial\n",
    "        loss += mask_loss\n",
    "        n_totals += n_total\n",
    "        all_loss.append(mask_loss.item() * nTotal)\n",
    "    \n",
    "    loss.backward()\n",
    "\n",
    "    encoder_optimizer.step()\n",
    "    decoder_optimizer.step()\n",
    "\n",
    "    return sum(print_losses) / n_totals"
   ]
  },
  {
   "cell_type": "code",
   "execution_count": null,
   "id": "e5e41296",
   "metadata": {},
   "outputs": [],
   "source": [
    "def trainIters2(model_name, voc, pairs, encoder, decoder, encoder_optimizer, decoder_optimizer, \n",
    "               embedding, encoder_n_layers, decoder_n_layers, n_iteration, batch_size):\n",
    "\n",
    "    training_batches = [batch2TrainData(voc, [random.choice(pairs) for _ in range(batch_size)])\n",
    "                      for _ in range(n_iteration)] # from tutorial\n",
    "\n",
    "    for iteration in range(n_iteration):\n",
    "        training_batch = training_batches[iteration]\n",
    "        input_variable, input_lengths, target_variable, _, max_target_len = training_batch\n",
    "        loss = train2(input_variable, input_lengths, target_variable, \n",
    "                     encoder, decoder, encoder_optimizer, decoder_optimizer,\n",
    "                     batch_size, max_target_len)\n",
    "        print(\"Iteration: {}; Average loss: {:.4f}\".format(iteration, loss))"
   ]
  }
 ],
 "metadata": {
  "kernelspec": {
   "display_name": "Python 3",
   "language": "python",
   "name": "python3"
  },
  "language_info": {
   "codemirror_mode": {
    "name": "ipython",
    "version": 3
   },
   "file_extension": ".py",
   "mimetype": "text/x-python",
   "name": "python",
   "nbconvert_exporter": "python",
   "pygments_lexer": "ipython3",
   "version": "3.9.12"
  }
 },
 "nbformat": 4,
 "nbformat_minor": 5
}
